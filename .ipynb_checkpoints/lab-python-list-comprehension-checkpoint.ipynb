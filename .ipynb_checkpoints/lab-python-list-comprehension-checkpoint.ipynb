{
 "cells": [
  {
   "cell_type": "markdown",
   "id": "25d7736c-ba17-4aff-b6bb-66eba20fbf4e",
   "metadata": {},
   "source": [
    "# Lab | List, Dict and Set Comprehension"
   ]
  },
  {
   "cell_type": "markdown",
   "id": "7dd3cbde-675a-4b81-92c3-f728846dbe06",
   "metadata": {},
   "source": [
    "## Exercise: Managing Customer Orders Optimized with Comprehension"
   ]
  },
  {
   "cell_type": "markdown",
   "id": "5d500160-2fb7-4777-b5e4-09d45ebaf328",
   "metadata": {},
   "source": [
    "In the previous exercise, you developed a program to manage customer orders and inventory. Now, let's take it a step further and incorporate comprehension into your code.\n",
    "\n",
    "Follow the steps below to complete the exercise:\n",
    "\n",
    "1. Review your code from the previous exercise and identify areas where you can apply comprehension to simplify and streamline your code. \n",
    "\n",
    "    - *Hint: Apply it to initialize inventory, updating the inventory and printing the updated inventory.*\n",
    "    \n",
    "    - For example, in initializing the inventory, we could have:\n",
    "    \n",
    "        ```python\n",
    "        def initialize_inventory(products):\n",
    "            inventory = {product: int(input(f\"Enter the quantity of {product}s available: \")) for product in products}\n",
    "            return inventory\n",
    "\n",
    "        ```\n",
    "<br>\n",
    "    \n",
    "    \n",
    "2. Modify the function get_customer_orders so it prompts the user to enter the number of customer orders and gathers the product names using a loop and user input. Use comprehension.\n",
    "\n",
    "3. Add a new function to calculate the total price of the customer order. For each product in customer_orders, prompt the user to enter the price of that product. Use comprehension to calculate the total price. Note: assume that the user can only have 1 unit of each product.\n",
    "\n",
    "4. Modify the update_inventory function to remove the product from the inventory if its quantity becomes zero after fulfilling the customer orders. Use comprehension to filter out the products with a quantity of zero from the inventory.\n",
    "\n",
    "5. Print the total price of the customer order.\n",
    "\n",
    "Your code should produce output similar to the following:\n",
    "\n",
    "```python\n",
    "Enter the quantity of t-shirts available:  5\n",
    "Enter the quantity of mugs available:  4\n",
    "Enter the quantity of hats available:  3\n",
    "Enter the quantity of books available:  2\n",
    "Enter the quantity of keychains available:  1\n",
    "Enter the number of customer orders:  2\n",
    "Enter the name of a product that a customer wants to order:  hat\n",
    "Enter the name of a product that a customer wants to order:  keychain\n",
    "\n",
    "Order Statistics:\n",
    "Total Products Ordered: 2\n",
    "Percentage of Unique Products Ordered: 40.0\n",
    "\n",
    "Updated Inventory:\n",
    "t-shirt: 5\n",
    "mug: 4\n",
    "hat: 2\n",
    "book: 2\n",
    "Enter the price of keychain:  5\n",
    "Enter the price of hat:  10\n",
    "Total Price: 15.0\n",
    "\n",
    "```\n"
   ]
  },
  {
   "cell_type": "code",
   "execution_count": 59,
   "id": "4bc7f3b9",
   "metadata": {},
   "outputs": [],
   "source": [
    "def initialize_inventory(products):\n",
    "      inventory = {product: int(input(f\"Enter the quantity of {product}s available: \")) for product in products}\n",
    "      return inventory"
   ]
  },
  {
   "cell_type": "code",
   "execution_count": 60,
   "id": "8d2a5f04",
   "metadata": {},
   "outputs": [],
   "source": [
    "#did not manage to make the user choose only from the products list..\n",
    "def get_customer_orders():\n",
    "    number_of_orders = int(input(\"Enter the number of customer orders: \"))\n",
    "    customer_orders = {input(\"Enter the name of a product that a customer wants to order: \") for i in range(number_of_orders)}\n",
    "    return customer_orders"
   ]
  },
  {
   "cell_type": "code",
   "execution_count": 61,
   "id": "b17cc5da",
   "metadata": {},
   "outputs": [],
   "source": [
    "def calculate_order_statistics(customer_orders, products):\n",
    "    total_products_ordered = len(customer_orders)\n",
    "    percentage_of_unique_products_ordered = len(customer_orders)/(len(products)) * 100\n",
    "    print(f\"Order Statistics:\\nTotal Products Ordered: {total_products_ordered}\\nPercentage of Unique Products Ordered: {percentage_of_unique_products_ordered}\") "
   ]
  },
  {
   "cell_type": "code",
   "execution_count": 76,
   "id": "db7243f3",
   "metadata": {},
   "outputs": [],
   "source": [
    "#had to import this functools and use functools.reduce otherwise it would say that name reduce was not defined \n",
    "import functools\n",
    "def calculate_total_price(customer_orders):\n",
    "    price_list = [int(input(f\"Enter the price of {orders}: \")) for orders in customer_orders]\n",
    "    total_price = functools.reduce(lambda x, y: x + y , price_list)\n",
    "    print(\"Total Price:\", total_price)"
   ]
  },
  {
   "cell_type": "code",
   "execution_count": 65,
   "id": "a78d4c71",
   "metadata": {},
   "outputs": [],
   "source": [
    "def update_inventory(set_customer_orders, inital_inventory):\n",
    "    for orders in customer_orders:\n",
    "        if inventory[orders] > 0:\n",
    "            inventory[orders] -= 1\n",
    "        else:\n",
    "            inventory[orders] -= 0"
   ]
  },
  {
   "cell_type": "code",
   "execution_count": 66,
   "id": "abe05d5b",
   "metadata": {},
   "outputs": [],
   "source": [
    "#suggestion from Stackoverflow. Could not incorporate in the def update_inventory, only manage to do it by defining this\n",
    "#function as suggested\n",
    "def my_filtering_function(pair):\n",
    "    key, value = pair\n",
    "    if value > 0 :\n",
    "        return True  # keep pair in the filtered dictionary\n",
    "    else:\n",
    "        return False  # filter pair out of the dictionary    "
   ]
  },
  {
   "cell_type": "code",
   "execution_count": 67,
   "id": "929243d7",
   "metadata": {},
   "outputs": [],
   "source": [
    "products = [\"t-shirt\", \"mug\", \"hat\", \"book\", \"keychain\"]"
   ]
  },
  {
   "cell_type": "code",
   "execution_count": 77,
   "id": "837454e7",
   "metadata": {},
   "outputs": [
    {
     "name": "stdout",
     "output_type": "stream",
     "text": [
      "Enter the quantity of t-shirts available: 3\n",
      "Enter the quantity of mugs available: 1\n",
      "Enter the quantity of hats available: 4\n",
      "Enter the quantity of books available: 5\n",
      "Enter the quantity of keychains available: 6\n",
      "Enter the number of customer orders: 2\n",
      "Enter the name of a product that a customer wants to order: mug\n",
      "Enter the name of a product that a customer wants to order: book\n",
      " \n",
      "Order Statistics:\n",
      "Total Products Ordered: {total_products_ordered}\n",
      "Percentage of Unique Products Ordered: {percentage_of_unique_products_ordered}\n",
      " \n",
      "Updated Inventory:\n",
      "t-shirt: 3\n",
      "hat: 4\n",
      "book: 4\n",
      "keychain: 6\n",
      "Enter the price of mug: 4\n",
      "Enter the price of book: 3\n",
      "Total Price: 7\n"
     ]
    }
   ],
   "source": [
    "inventory = initialize_inventory(products)\n",
    "\n",
    "customer_orders = get_customer_orders()\n",
    "\n",
    "print(\" \")\n",
    "\n",
    "calculate_order_statistics(customer_orders, products)\n",
    "\n",
    "update_inventory(customer_orders, inventory)\n",
    "\n",
    "updated_inventory = dict(filter(my_filtering_function, inventory.items()))\n",
    "\n",
    "print(\" \")\n",
    "\n",
    "print(\"Updated Inventory:\")\n",
    "\n",
    "for key, value in updated_inventory.items():\n",
    "    print(\"{}: {}\".format(key, value))\n",
    "    \n",
    "calculate_total_price(customer_orders)"
   ]
  },
  {
   "cell_type": "code",
   "execution_count": null,
   "id": "f4ffea10",
   "metadata": {},
   "outputs": [],
   "source": []
  }
 ],
 "metadata": {
  "kernelspec": {
   "display_name": "Python 3 (ipykernel)",
   "language": "python",
   "name": "python3"
  },
  "language_info": {
   "codemirror_mode": {
    "name": "ipython",
    "version": 3
   },
   "file_extension": ".py",
   "mimetype": "text/x-python",
   "name": "python",
   "nbconvert_exporter": "python",
   "pygments_lexer": "ipython3",
   "version": "3.9.13"
  }
 },
 "nbformat": 4,
 "nbformat_minor": 5
}
